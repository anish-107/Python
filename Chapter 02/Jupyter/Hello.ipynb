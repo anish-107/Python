{
 "cells": [
  {
   "cell_type": "markdown",
   "id": "75eedd5c-86a1-4e9e-92f6-0aaf2d0b409f",
   "metadata": {},
   "source": [
    "# Python Hello"
   ]
  },
  {
   "cell_type": "code",
   "execution_count": 1,
   "id": "e6a09922-ebb7-4854-acb9-d9fe36d928f5",
   "metadata": {},
   "outputs": [
    {
     "name": "stdin",
     "output_type": "stream",
     "text": [
      "Enter your name :  Anish\n"
     ]
    },
    {
     "name": "stdout",
     "output_type": "stream",
     "text": [
      "Hello Anish!\n"
     ]
    }
   ],
   "source": [
    "name = input(\"Enter your name : \")\n",
    "print(\"Hello \" + name + \"!\")"
   ]
  },
  {
   "cell_type": "markdown",
   "id": "dde29e40-a277-4ce5-b307-73ec5cd8ac2f",
   "metadata": {},
   "source": [
    "# Markdown Example\n",
    "**"
   ]
  },
  {
   "cell_type": "code",
   "execution_count": null,
   "id": "4547ccd4-e954-4629-a04c-c1ae3be6b90b",
   "metadata": {},
   "outputs": [],
   "source": []
  }
 ],
 "metadata": {
  "kernelspec": {
   "display_name": "Python 3 (ipykernel)",
   "language": "python",
   "name": "python3"
  },
  "language_info": {
   "codemirror_mode": {
    "name": "ipython",
    "version": 3
   },
   "file_extension": ".py",
   "mimetype": "text/x-python",
   "name": "python",
   "nbconvert_exporter": "python",
   "pygments_lexer": "ipython3",
   "version": "3.12.7"
  }
 },
 "nbformat": 4,
 "nbformat_minor": 5
}
