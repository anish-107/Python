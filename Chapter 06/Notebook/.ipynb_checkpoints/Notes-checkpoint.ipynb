{
 "cells": [
  {
   "cell_type": "markdown",
   "id": "aa9b6b19-e133-431b-a19b-cd43753ab59f",
   "metadata": {},
   "source": [
    "# Loop - Control Flow"
   ]
  },
  {
   "cell_type": "raw",
   "id": "f4f4c6ba-5b8a-4aa4-9b38-b35ec1c46581",
   "metadata": {},
   "source": [
    "Loops are repeating statements, if i want a set of statements to repeat i can use loop.\n",
    "\n",
    "While executes till a condition is met.\n",
    "\n",
    "when a i perform modulo by 10 i can get the last digit and by floor division i can remove the last digit of a number.\n",
    "\n",
    "float(\"-inf\") : negative infinite.\n",
    "\n",
    "Infinite loop : If the condition of while loop never gets to a terminating condition then the program will keep on running forever, until CPU generates a trap or it meets an external interuppt (OS and COA reference :))\n",
    "\n",
    "break : break immediately stops the execution of loop at the point they are used.\n",
    "\n",
    "continue : continue skips the remaining part of the code for the current iteration.\n",
    "\n",
    "pass : just by pass some part of code.\n",
    "\n",
    "else suite : we can use else block with while too.\n",
    "if condition is true while will execute else else suite will execute (but it will not get executed if while loop was stopped without making the condition false that is using break)\n",
    "\n",
    "for execute for a given number of times.\n",
    "\n",
    "for x in array => for each loop\n",
    "\n",
    "range(start, end, step)\n",
    "num = range(n) : 0 <= num < n\n",
    "num = range(m, n) : m <= num < n\n",
    "num = range(m, n, s) : 0 <= num < n with s steps"
   ]
  },
  {
   "cell_type": "code",
   "execution_count": 4,
   "id": "22e4348d-624f-4502-8a1f-feef03456b36",
   "metadata": {},
   "outputs": [
    {
     "name": "stdout",
     "output_type": "stream",
     "text": [
      "1 Hello\n",
      "2 Hello\n",
      "3 Hello\n",
      "4 Hello\n",
      "5 Hello\n",
      "6 Hello\n",
      "7 Hello\n",
      "8 Hello\n",
      "9 Hello\n",
      "10 Hello\n"
     ]
    }
   ],
   "source": [
    "count = 0\n",
    "while count < 10:\n",
    "    print(count+1, \"Hello\")\n",
    "    count += 1\n"
   ]
  },
  {
   "cell_type": "code",
   "execution_count": 5,
   "id": "bba38132-92ef-436b-b990-220f75617a60",
   "metadata": {},
   "outputs": [
    {
     "name": "stdout",
     "output_type": "stream",
     "text": [
      "54321"
     ]
    }
   ],
   "source": [
    "n = 12345\n",
    "\n",
    "while n != 0:\n",
    "    print(n%10, end=\"\")\n",
    "    n //= 10\n"
   ]
  },
  {
   "cell_type": "code",
   "execution_count": 6,
   "id": "23d8ab19-c50c-4127-bd64-27843f8f543c",
   "metadata": {},
   "outputs": [
    {
     "name": "stdin",
     "output_type": "stream",
     "text": [
      "Enter a number :  19\n"
     ]
    },
    {
     "name": "stdout",
     "output_type": "stream",
     "text": [
      "19 x 1 = 19\n",
      "19 x 2 = 38\n",
      "19 x 3 = 57\n",
      "19 x 4 = 76\n",
      "19 x 5 = 95\n",
      "19 x 6 = 114\n",
      "19 x 7 = 133\n",
      "19 x 8 = 152\n",
      "19 x 9 = 171\n",
      "19 x 10 = 190\n"
     ]
    }
   ],
   "source": [
    "n = int(input(\"Enter a number : \"))\n",
    "\n",
    "multiplier = 1\n",
    "\n",
    "while multiplier <= 10:\n",
    "    print(f\"{n} x {multiplier} = {n * multiplier}\")\n",
    "    multiplier += 1\n"
   ]
  },
  {
   "cell_type": "code",
   "execution_count": 1,
   "id": "b5ab3437-d5bd-4c1c-b858-af61a525688b",
   "metadata": {},
   "outputs": [
    {
     "name": "stdin",
     "output_type": "stream",
     "text": [
      "Enter a number :  1345\n"
     ]
    },
    {
     "name": "stdout",
     "output_type": "stream",
     "text": [
      "No. of digits : 4\n"
     ]
    }
   ],
   "source": [
    "n = int (input(\"Enter a number : \"))\n",
    "\n",
    "count = 0\n",
    "\n",
    "while n:\n",
    "    n //= 10\n",
    "    count += 1\n",
    "\n",
    "print(f\"No. of digits : {count}\")"
   ]
  },
  {
   "cell_type": "code",
   "execution_count": 4,
   "id": "f61a29c7-0eae-48a2-93fc-dffd5fa15819",
   "metadata": {},
   "outputs": [
    {
     "name": "stdin",
     "output_type": "stream",
     "text": [
      "Enter a number :  456\n"
     ]
    },
    {
     "name": "stdout",
     "output_type": "stream",
     "text": [
      "Sum : 15\n"
     ]
    }
   ],
   "source": [
    "n = int (input(\"Enter a number : \"))\n",
    "\n",
    "sum = 0\n",
    "\n",
    "while n:\n",
    "    sum += n % 10\n",
    "    n //= 10\n",
    "    \n",
    "print(f\"Sum : {sum}\")"
   ]
  },
  {
   "cell_type": "code",
   "execution_count": 6,
   "id": "29108c82-9998-4bfe-9d61-806ad6187ebe",
   "metadata": {},
   "outputs": [
    {
     "name": "stdin",
     "output_type": "stream",
     "text": [
      "Enter a number :  123456789\n"
     ]
    },
    {
     "name": "stdout",
     "output_type": "stream",
     "text": [
      "987654321"
     ]
    }
   ],
   "source": [
    "n = int(input(\"Enter a number : \"))\n",
    "\n",
    "while n != 0:\n",
    "    print(n%10, end=\"\")\n",
    "    n //= 10"
   ]
  },
  {
   "cell_type": "code",
   "execution_count": 9,
   "id": "819f1b0d-6266-4d84-afc4-80d0ba54e85c",
   "metadata": {},
   "outputs": [
    {
     "name": "stdin",
     "output_type": "stream",
     "text": [
      "Enter a number :  123321\n"
     ]
    },
    {
     "name": "stdout",
     "output_type": "stream",
     "text": [
      "Palindrome : True\n"
     ]
    }
   ],
   "source": [
    "n = int(input(\"Enter a number : \"))\n",
    "\n",
    "rev = \"\"\n",
    "original = n\n",
    "\n",
    "while n != 0:\n",
    "    rev += str(n%10)\n",
    "    n //= 10\n",
    "\n",
    "print(f\"Palindrome : {int(rev) == original}\")"
   ]
  },
  {
   "cell_type": "code",
   "execution_count": 10,
   "id": "0098fd17-90ca-4886-92a7-59a11ae96935",
   "metadata": {},
   "outputs": [
    {
     "name": "stdin",
     "output_type": "stream",
     "text": [
      "Enter a number :  12345\n"
     ]
    },
    {
     "name": "stdout",
     "output_type": "stream",
     "text": [
      "54321\n"
     ]
    }
   ],
   "source": [
    "n = int(input(\"Enter a number : \"))\n",
    "\n",
    "rev = 0\n",
    "\n",
    "while n != 0:\n",
    "    r = n % 10\n",
    "    rev = 10 * rev + r\n",
    "    n //= 10\n",
    "\n",
    "print(rev)"
   ]
  },
  {
   "cell_type": "code",
   "execution_count": 11,
   "id": "fe9635f4-19ad-4d35-bd17-49cced46c14c",
   "metadata": {},
   "outputs": [
    {
     "name": "stdin",
     "output_type": "stream",
     "text": [
      "How many numbers :  5\n",
      " 3\n",
      " 4\n",
      " 5\n",
      " 6\n",
      " 7\n"
     ]
    },
    {
     "name": "stdout",
     "output_type": "stream",
     "text": [
      "25\n"
     ]
    }
   ],
   "source": [
    "count = int(input(\"How many numbers : \"))\n",
    "\n",
    "sum = 0\n",
    "\n",
    "while count != 0:\n",
    "    n = int(input())\n",
    "    sum += n\n",
    "    count -= 1\n",
    "\n",
    "print(sum)"
   ]
  },
  {
   "cell_type": "code",
   "execution_count": 12,
   "id": "2e6dccd3-f2f6-49bf-9322-9b8d217a81f0",
   "metadata": {},
   "outputs": [
    {
     "name": "stdin",
     "output_type": "stream",
     "text": [
      "How many numbers :  5\n",
      " 1\n",
      " 2\n",
      " -5\n",
      " -8\n",
      " 45\n"
     ]
    },
    {
     "name": "stdout",
     "output_type": "stream",
     "text": [
      "48\n",
      "-13\n"
     ]
    }
   ],
   "source": [
    "count = int(input(\"How many numbers : \"))\n",
    "\n",
    "sum_pos = 0\n",
    "sum_neg = 0\n",
    "\n",
    "while count != 0:\n",
    "    n = int(input())\n",
    "    if n >= 0:\n",
    "        sum_pos += n\n",
    "    else:\n",
    "        sum_neg += n\n",
    "        \n",
    "    count -= 1\n",
    "\n",
    "print(sum_pos, sum_neg, sep=\"\\n\")"
   ]
  },
  {
   "cell_type": "code",
   "execution_count": 15,
   "id": "82cc40de-fb6b-466e-9878-8b28b5c0920d",
   "metadata": {},
   "outputs": [
    {
     "name": "stdin",
     "output_type": "stream",
     "text": [
      "How many numbers :  5\n",
      " -3\n",
      " -4\n",
      " -5\n",
      " -6\n",
      " -7\n"
     ]
    },
    {
     "name": "stdout",
     "output_type": "stream",
     "text": [
      "-3\n"
     ]
    }
   ],
   "source": [
    "count = int(input(\"How many numbers : \"))\n",
    "\n",
    "max = float('-inf')\n",
    "\n",
    "while count != 0:\n",
    "    n = int(input())\n",
    "    if n > max:\n",
    "        max = n\n",
    "    count -= 1\n",
    "\n",
    "print(max)"
   ]
  },
  {
   "cell_type": "code",
   "execution_count": null,
   "id": "458008f1-f7c4-48d1-a405-2837bc5f3905",
   "metadata": {},
   "outputs": [],
   "source": []
  },
  {
   "cell_type": "code",
   "execution_count": 19,
   "id": "3a0c7c01-2682-446e-ab13-65b9d8618c01",
   "metadata": {},
   "outputs": [
    {
     "name": "stdin",
     "output_type": "stream",
     "text": [
      "Enter a number between 1 - 10 :  5\n"
     ]
    },
    {
     "name": "stdout",
     "output_type": "stream",
     "text": [
      "Correct number is greater than your guess.\n"
     ]
    },
    {
     "name": "stdin",
     "output_type": "stream",
     "text": [
      "Enter a number between 1 - 10 :  7\n"
     ]
    },
    {
     "name": "stdout",
     "output_type": "stream",
     "text": [
      "Correct Guess. Well Done !!!\n"
     ]
    }
   ],
   "source": [
    "import random\n",
    "\n",
    "correct_num = random.randint(1, 10) \n",
    "flag = True\n",
    "\n",
    "while flag:\n",
    "    guess_num = int(input(\"Enter a number between 1 - 10 : \"))\n",
    "\n",
    "    if guess_num > correct_num:\n",
    "        print(\"Correct number is smaller than your guess.\")\n",
    "        \n",
    "    elif guess_num < correct_num:\n",
    "        print(\"Correct number is greater than your guess.\")\n",
    "        \n",
    "    else:\n",
    "        print(\"Correct Guess. Well Done !!!\")\n",
    "        flag = False"
   ]
  },
  {
   "cell_type": "code",
   "execution_count": 20,
   "id": "ed86db02-9bcb-43de-8caa-72f0514f83ef",
   "metadata": {},
   "outputs": [
    {
     "name": "stdout",
     "output_type": "stream",
     "text": [
      "h\n",
      "e\n",
      "l\n",
      "l\n",
      "o\n"
     ]
    }
   ],
   "source": [
    "msg = \"hello\"\n",
    "\n",
    "for x in msg:\n",
    "    print(x)\n"
   ]
  },
  {
   "cell_type": "code",
   "execution_count": 25,
   "id": "0dfaaddc-61c5-4a22-84d7-4b0a2fe6bc3f",
   "metadata": {},
   "outputs": [
    {
     "name": "stdout",
     "output_type": "stream",
     "text": [
      "0\n",
      "1\n",
      "2\n",
      "3\n",
      "4\n",
      "5\n",
      "6\n",
      "7\n",
      "8\n",
      "9\n",
      "1\n",
      "2\n",
      "3\n",
      "4\n",
      "5\n",
      "6\n",
      "7\n",
      "8\n",
      "9\n",
      "1\n",
      "5\n",
      "9\n",
      "10\n",
      "8\n",
      "6\n",
      "4\n",
      "2\n"
     ]
    }
   ],
   "source": [
    "for i in range(10):\n",
    "    print(i)\n",
    "\n",
    "for i in range(1, 10):\n",
    "    print(i)\n",
    "\n",
    "for i in range(1, 10, 4):\n",
    "    print(i)\n",
    "for i in range(10, 1, -2):\n",
    "    print(i)"
   ]
  },
  {
   "cell_type": "code",
   "execution_count": 26,
   "id": "c709e3d7-2743-45e3-a12f-fefc378671f9",
   "metadata": {},
   "outputs": [
    {
     "name": "stdin",
     "output_type": "stream",
     "text": [
      "Enter a number :  19\n"
     ]
    },
    {
     "name": "stdout",
     "output_type": "stream",
     "text": [
      "19 x 1 = 19\n",
      "19 x 2 = 38\n",
      "19 x 3 = 57\n",
      "19 x 4 = 76\n",
      "19 x 5 = 95\n",
      "19 x 6 = 114\n",
      "19 x 7 = 133\n",
      "19 x 8 = 152\n",
      "19 x 9 = 171\n",
      "19 x 10 = 190\n"
     ]
    }
   ],
   "source": [
    "n = int(input(\"Enter a number : \"))\n",
    "\n",
    "for i in range(1, 11):\n",
    "    print(f\"{n} x {i} = {n * i}\")\n"
   ]
  },
  {
   "cell_type": "code",
   "execution_count": 30,
   "id": "1719f8ae-3827-45bc-9f60-de78acbc5732",
   "metadata": {},
   "outputs": [
    {
     "name": "stdin",
     "output_type": "stream",
     "text": [
      "Enter a number :  5\n"
     ]
    },
    {
     "name": "stdout",
     "output_type": "stream",
     "text": [
      "120\n"
     ]
    }
   ],
   "source": [
    "n = int(input(\"Enter a number : \"))\n",
    "\n",
    "factorial = 1\n",
    "\n",
    "for i in range(n, 0, -1):\n",
    "    factorial *= i\n",
    "\n",
    "print(factorial)"
   ]
  },
  {
   "cell_type": "code",
   "execution_count": null,
   "id": "72c914d0-6786-4efe-ac5a-b989f62502a1",
   "metadata": {},
   "outputs": [],
   "source": []
  }
 ],
 "metadata": {
  "kernelspec": {
   "display_name": "Python 3 (ipykernel)",
   "language": "python",
   "name": "python3"
  },
  "language_info": {
   "codemirror_mode": {
    "name": "ipython",
    "version": 3
   },
   "file_extension": ".py",
   "mimetype": "text/x-python",
   "name": "python",
   "nbconvert_exporter": "python",
   "pygments_lexer": "ipython3",
   "version": "3.13.1"
  }
 },
 "nbformat": 4,
 "nbformat_minor": 5
}
