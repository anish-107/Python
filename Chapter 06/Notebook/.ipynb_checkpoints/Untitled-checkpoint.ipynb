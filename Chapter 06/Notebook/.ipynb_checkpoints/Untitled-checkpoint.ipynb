{
 "cells": [
  {
   "cell_type": "markdown",
   "id": "aa9b6b19-e133-431b-a19b-cd43753ab59f",
   "metadata": {},
   "source": [
    "# While loop"
   ]
  },
  {
   "cell_type": "raw",
   "id": "f4f4c6ba-5b8a-4aa4-9b38-b35ec1c46581",
   "metadata": {},
   "source": [
    "Loops are repeating statements, if i want a set of statements to repeat i can use loop.\n",
    "\n",
    "While executes till a condition is met.\n",
    "\n",
    "when a i perform modulo by 10 i can get the last digit and by floor division i can remove the last digit of a number.\n",
    "\n",
    "for execute for a given number of times."
   ]
  },
  {
   "cell_type": "code",
   "execution_count": 4,
   "id": "22e4348d-624f-4502-8a1f-feef03456b36",
   "metadata": {},
   "outputs": [
    {
     "name": "stdout",
     "output_type": "stream",
     "text": [
      "1 Hello\n",
      "2 Hello\n",
      "3 Hello\n",
      "4 Hello\n",
      "5 Hello\n",
      "6 Hello\n",
      "7 Hello\n",
      "8 Hello\n",
      "9 Hello\n",
      "10 Hello\n"
     ]
    }
   ],
   "source": [
    "count = 0\n",
    "while count < 10:\n",
    "    print(count+1, \"Hello\")\n",
    "    count += 1\n"
   ]
  },
  {
   "cell_type": "code",
   "execution_count": 5,
   "id": "bba38132-92ef-436b-b990-220f75617a60",
   "metadata": {},
   "outputs": [
    {
     "name": "stdout",
     "output_type": "stream",
     "text": [
      "54321"
     ]
    }
   ],
   "source": [
    "n = 12345\n",
    "\n",
    "while n != 0:\n",
    "    print(n%10, end=\"\")\n",
    "    n //= 10\n"
   ]
  },
  {
   "cell_type": "code",
   "execution_count": 6,
   "id": "23d8ab19-c50c-4127-bd64-27843f8f543c",
   "metadata": {},
   "outputs": [
    {
     "name": "stdin",
     "output_type": "stream",
     "text": [
      "Enter a number :  19\n"
     ]
    },
    {
     "name": "stdout",
     "output_type": "stream",
     "text": [
      "19 x 1 = 19\n",
      "19 x 2 = 38\n",
      "19 x 3 = 57\n",
      "19 x 4 = 76\n",
      "19 x 5 = 95\n",
      "19 x 6 = 114\n",
      "19 x 7 = 133\n",
      "19 x 8 = 152\n",
      "19 x 9 = 171\n",
      "19 x 10 = 190\n"
     ]
    }
   ],
   "source": [
    "n = int(input(\"Enter a number : \"))\n",
    "\n",
    "multiplier = 1\n",
    "\n",
    "while multiplier <= 10:\n",
    "    print(f\"{n} x {multiplier} = {n * multiplier}\")\n",
    "    multiplier += 1\n"
   ]
  },
  {
   "cell_type": "code",
   "execution_count": null,
   "id": "15946180-5d66-4964-9ec7-df12abaf90a2",
   "metadata": {},
   "outputs": [],
   "source": []
  }
 ],
 "metadata": {
  "kernelspec": {
   "display_name": "Python 3 (ipykernel)",
   "language": "python",
   "name": "python3"
  },
  "language_info": {
   "codemirror_mode": {
    "name": "ipython",
    "version": 3
   },
   "file_extension": ".py",
   "mimetype": "text/x-python",
   "name": "python",
   "nbconvert_exporter": "python",
   "pygments_lexer": "ipython3",
   "version": "3.13.1"
  }
 },
 "nbformat": 4,
 "nbformat_minor": 5
}
